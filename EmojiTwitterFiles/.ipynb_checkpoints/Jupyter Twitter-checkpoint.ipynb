{
 "cells": [
  {
   "cell_type": "code",
   "execution_count": 20,
   "metadata": {},
   "outputs": [],
   "source": [
    "import tweepy\n",
    "import emoji\n",
    "import geocoder\n",
    "import requests\n",
    "import copy\n",
    "import pandas as pd\n",
    "from matplotlib import pyplot as plt\n",
    "import xlsxwriter\n",
    "from matplotlib.colors import LogNorm"
   ]
  },
  {
   "cell_type": "code",
   "execution_count": 21,
   "metadata": {},
   "outputs": [],
   "source": [
    "consumer_key = \"gTOiHFrbwzok0Y9RO0f4tYBxE\"\n",
    "consumer_secret = \"6PreYoQI44yRSGijltpHcyPYWuKMPA9oYeOJHL6lgjwxbUEnFZ\"\n",
    "\n",
    "access_token = \"998811230860070912-X7mhWfQT6J6M7eRvJdoGp96TVoDd1Ft\"\n",
    "access_token_secret = \"6ywc79Qsaj7CBBykJr9G8GQw8eZ4d5XemezxqIRxHE5xv\"\n",
    "\n",
    "auth = tweepy.OAuthHandler(consumer_key, consumer_secret)\n",
    "auth.set_access_token(access_token, access_token_secret)\n",
    "api = tweepy.API(auth)"
   ]
  },
  {
   "cell_type": "code",
   "execution_count": 22,
   "metadata": {},
   "outputs": [],
   "source": [
    "query = \"emoji\"\n",
    "tweetCount = 100\n",
    "\n",
    "tweets = api.search(q=query, count=tweetCount)"
   ]
  },
  {
   "cell_type": "code",
   "execution_count": 23,
   "metadata": {},
   "outputs": [],
   "source": [
    "def unicodeExtractor(tweet, tweetString):\n",
    "    if (not tweet.retweeted) and ('RT @' not in tweetString):\n",
    "        emojiList = []\n",
    "        for char in tweetString:\n",
    "            if char in emoji.UNICODE_EMOJI:\n",
    "                #emojiList.append(f'U+{ord(char):X}')\n",
    "                emojiList.append(char.encode('unicode-escape'))\n",
    "                #s = char.encode('unicode-escape')\n",
    "                #print(s.decode('unicode-escape'))\n",
    "        if emojiList == []:\n",
    "            return 0\n",
    "        else:\n",
    "            return emojiList\n",
    "    else:\n",
    "        return 0"
   ]
  },
  {
   "cell_type": "code",
   "execution_count": 24,
   "metadata": {},
   "outputs": [],
   "source": [
    "def convertUnicodetoEmoji(emojilist): \n",
    "    returnlist = []\n",
    "    for emoji in emojilist: \n",
    "        s = emoji.encode('unicode-escape')\n",
    "        returnlist.append(s.decode('unicode-escape'))"
   ]
  },
  {
   "cell_type": "code",
   "execution_count": 25,
   "metadata": {},
   "outputs": [],
   "source": [
    "def tweetLocation(tweet):\n",
    "    try:\n",
    "        if (not tweet.retweeted) and ('RT @' not in tweet.text):\n",
    "            tul = tweet.user.location\n",
    "            if tweet.coordinates is not None:\n",
    "                coords, c = [], tweet.coordinates.get('coordinates')\n",
    "                coords.append(c[1])\n",
    "                coords.append(c[0])\n",
    "                return coords\n",
    "            elif tweet.coordinates is None and tweet.place is not None:\n",
    "                g = geocoder.google(tweet.place)\n",
    "                if g.ok:\n",
    "                    return g.latlng\n",
    "                return 0\n",
    "            elif tweet.place is None and (tul is not None or tul is not \"\" or tul is not \" \"):\n",
    "                g = geocoder.google(tweet.user.location)\n",
    "                if g.ok:\n",
    "                    return g.latlng\n",
    "                elif '|' in tul:\n",
    "                    geo = geocoder.google(tul.split('|')[0])\n",
    "                    return geo.latlng\n",
    "                return 0\n",
    "            else:\n",
    "                return 0\n",
    "        else:\n",
    "            return 0\n",
    "    except requests.exceptions.RequestException as e:\n",
    "        return 0"
   ]
  },
  {
   "cell_type": "code",
   "execution_count": 32,
   "metadata": {},
   "outputs": [
    {
     "name": "stderr",
     "output_type": "stream",
     "text": [
      "Status code 400 from https://maps.googleapis.com/maps/api/geocode/json: ERROR - 400 Client Error: Bad Request for url: https://maps.googleapis.com/maps/api/geocode/json?address=&bounds=&components=&region=&language=\n",
      "Status code 400 from https://maps.googleapis.com/maps/api/geocode/json: ERROR - 400 Client Error: Bad Request for url: https://maps.googleapis.com/maps/api/geocode/json?address=&bounds=&components=&region=&language=\n",
      "Status code 400 from https://maps.googleapis.com/maps/api/geocode/json: ERROR - 400 Client Error: Bad Request for url: https://maps.googleapis.com/maps/api/geocode/json?address=&bounds=&components=&region=&language=\n"
     ]
    }
   ],
   "source": [
    "latlonlist = []\n",
    "emojislist = []\n",
    "timelist = []\n",
    "\n",
    "for tweet in tweets:\n",
    "    e = unicodeExtractor(tweet, tweet.text)\n",
    "\n",
    "    if e is not 0 and e is not None:\n",
    "        ll = tweetLocation(tweet)\n",
    "        if ll is not 0 and ll is not None: \n",
    "            emojislist.append(e)\n",
    "            latlonlist.append(ll)\n",
    "            timelist.append(str(tweet.created_at))"
   ]
  },
  {
   "cell_type": "code",
   "execution_count": 33,
   "metadata": {
    "scrolled": true
   },
   "outputs": [
    {
     "data": {
      "text/html": [
       "<div>\n",
       "<style scoped>\n",
       "    .dataframe tbody tr th:only-of-type {\n",
       "        vertical-align: middle;\n",
       "    }\n",
       "\n",
       "    .dataframe tbody tr th {\n",
       "        vertical-align: top;\n",
       "    }\n",
       "\n",
       "    .dataframe thead th {\n",
       "        text-align: right;\n",
       "    }\n",
       "</style>\n",
       "<table border=\"1\" class=\"dataframe\">\n",
       "  <thead>\n",
       "    <tr style=\"text-align: right;\">\n",
       "      <th></th>\n",
       "      <th>Emojis</th>\n",
       "      <th>Lat Lon</th>\n",
       "      <th>Time</th>\n",
       "    </tr>\n",
       "  </thead>\n",
       "  <tbody>\n",
       "    <tr>\n",
       "      <th>0</th>\n",
       "      <td>[b'\\\\U0001f602', b'\\\\U0001f496']</td>\n",
       "      <td>[27.768574, -82.768627]</td>\n",
       "      <td>2018-09-13 02:28:38</td>\n",
       "    </tr>\n",
       "    <tr>\n",
       "      <th>1</th>\n",
       "      <td>[b'\\\\U0001f525', b'\\\\U0001f4a9']</td>\n",
       "      <td>[40.6781784, -73.9441579]</td>\n",
       "      <td>2018-09-13 02:27:23</td>\n",
       "    </tr>\n",
       "    <tr>\n",
       "      <th>2</th>\n",
       "      <td>[b'\\\\U0001f644']</td>\n",
       "      <td>[23.634501, -102.552784]</td>\n",
       "      <td>2018-09-13 02:27:14</td>\n",
       "    </tr>\n",
       "  </tbody>\n",
       "</table>\n",
       "</div>"
      ],
      "text/plain": [
       "                             Emojis                    Lat Lon  \\\n",
       "0  [b'\\\\U0001f602', b'\\\\U0001f496']    [27.768574, -82.768627]   \n",
       "1  [b'\\\\U0001f525', b'\\\\U0001f4a9']  [40.6781784, -73.9441579]   \n",
       "2                  [b'\\\\U0001f644']   [23.634501, -102.552784]   \n",
       "\n",
       "                  Time  \n",
       "0  2018-09-13 02:28:38  \n",
       "1  2018-09-13 02:27:23  \n",
       "2  2018-09-13 02:27:14  "
      ]
     },
     "execution_count": 33,
     "metadata": {},
     "output_type": "execute_result"
    }
   ],
   "source": [
    "df = pd.DataFrame({'Lat Lon': latlonlist, 'Emojis': emojislist,'Time': timelist})\n",
    "df.head()"
   ]
  },
  {
   "cell_type": "code",
   "execution_count": null,
   "metadata": {},
   "outputs": [],
   "source": []
  }
 ],
 "metadata": {
  "kernelspec": {
   "display_name": "Python 3",
   "language": "python",
   "name": "python3"
  },
  "language_info": {
   "codemirror_mode": {
    "name": "ipython",
    "version": 3
   },
   "file_extension": ".py",
   "mimetype": "text/x-python",
   "name": "python",
   "nbconvert_exporter": "python",
   "pygments_lexer": "ipython3",
   "version": "3.6.4"
  }
 },
 "nbformat": 4,
 "nbformat_minor": 2
}
